{
  "nbformat": 4,
  "nbformat_minor": 0,
  "metadata": {
    "colab": {
      "name": "styletransfar.ipynb",
      "version": "0.3.2",
      "provenance": [],
      "collapsed_sections": []
    },
    "kernelspec": {
      "name": "python3",
      "display_name": "Python 3"
    }
  },
  "cells": [
    {
      "cell_type": "code",
      "metadata": {
        "id": "rnUPW3shU65P",
        "colab_type": "code",
        "outputId": "660c4af5-18e0-4def-fbde-5eb49c5bdfd4",
        "colab": {
          "base_uri": "https://localhost:8080/",
          "height": 85
        }
      },
      "source": [
        "!gdown https://drive.google.com/uc?id=1ZqTZWNH843KeZNjxexcXpfhCyhhUZbZZ"
      ],
      "execution_count": 0,
      "outputs": [
        {
          "output_type": "stream",
          "text": [
            "Downloading...\n",
            "From: https://drive.google.com/uc?id=1ZqTZWNH843KeZNjxexcXpfhCyhhUZbZZ\n",
            "To: /content/images.zip\n",
            "\r  0% 0.00/95.1k [00:00<?, ?B/s]\r100% 95.1k/95.1k [00:00<00:00, 24.2MB/s]\n"
          ],
          "name": "stdout"
        }
      ]
    },
    {
      "cell_type": "code",
      "metadata": {
        "id": "FVzo8-suXP5C",
        "colab_type": "code",
        "outputId": "eaab9d31-e8b3-40e9-dd1c-87f84815de3f",
        "colab": {
          "base_uri": "https://localhost:8080/",
          "height": 34
        }
      },
      "source": [
        "ls"
      ],
      "execution_count": 0,
      "outputs": [
        {
          "output_type": "stream",
          "text": [
            "images.zip  \u001b[0m\u001b[01;34msample_data\u001b[0m/\n"
          ],
          "name": "stdout"
        }
      ]
    },
    {
      "cell_type": "code",
      "metadata": {
        "id": "IGOYNmOhXTaP",
        "colab_type": "code",
        "outputId": "37539897-4227-41fb-c7a0-4ee9d6d41925",
        "colab": {
          "base_uri": "https://localhost:8080/",
          "height": 68
        }
      },
      "source": [
        "!unzip images.zip"
      ],
      "execution_count": 0,
      "outputs": [
        {
          "output_type": "stream",
          "text": [
            "Archive:  images.zip\n",
            "  inflating: me2.jpg                 \n",
            "  inflating: violinonpalette.jpg     \n"
          ],
          "name": "stdout"
        }
      ]
    },
    {
      "cell_type": "code",
      "metadata": {
        "id": "X2dBhQppXXN9",
        "colab_type": "code",
        "outputId": "5e672917-a738-43c9-b982-732e9cd7fa6b",
        "colab": {
          "base_uri": "https://localhost:8080/",
          "height": 34
        }
      },
      "source": [
        "ls"
      ],
      "execution_count": 0,
      "outputs": [
        {
          "output_type": "stream",
          "text": [
            "images.zip  me2.jpg  \u001b[0m\u001b[01;34msample_data\u001b[0m/  violinonpalette.jpg\n"
          ],
          "name": "stdout"
        }
      ]
    },
    {
      "cell_type": "code",
      "metadata": {
        "id": "Sb4J39-QXYst",
        "colab_type": "code",
        "outputId": "73204e85-6f04-48f3-91e1-0a86eff54e77",
        "colab": {
          "base_uri": "https://localhost:8080/",
          "height": 34
        }
      },
      "source": [
        "from keras.preprocessing.image import load_img, img_to_array\n",
        "\n",
        "ntName = \"es\"\n",
        "\n",
        "# This is the path to the image you want to transform.\n",
        "\n",
        "target_image_path = \"me2.jpg\"\n",
        "\n",
        "# This is the path to the style image.\n",
        "style_reference_image_path = \"violinonpalette.jpg\"\n",
        "\n",
        "##result_prefix = style_reference_image_path.split(\"images\\\\\")[1][:-4] + '_onto_'\\\n",
        "               # + target_image_path.split(\"images\\\\\")[1][:-4]\n",
        "result_prefix = \"\"\n",
        "# Dimensions of the generated picture.\n",
        "width, height = load_img(target_image_path).size\n",
        "img_height = 400\n",
        "img_width = int(width * img_height / height)"
      ],
      "execution_count": 0,
      "outputs": [
        {
          "output_type": "stream",
          "text": [
            "Using TensorFlow backend.\n"
          ],
          "name": "stderr"
        }
      ]
    },
    {
      "cell_type": "code",
      "metadata": {
        "id": "cf9TBFvhYrwj",
        "colab_type": "code",
        "colab": {}
      },
      "source": [
        "import numpy as np\n",
        "from keras.applications import vgg16\n",
        "\n",
        "def preprocess_image(image_path):\n",
        "    img = load_img(image_path, target_size=(img_height, img_width))\n",
        "    img = img_to_array(img)\n",
        "    img = np.expand_dims(img, axis=0)\n",
        "    img = vgg16.preprocess_input(img)\n",
        "    return img\n",
        "\n",
        "def deprocess_image(x):\n",
        "    # Remove zero-center by mean pixel\n",
        "    x[:, :, 0] += 103.939\n",
        "    x[:, :, 1] += 116.779\n",
        "    x[:, :, 2] += 123.68\n",
        "    # 'BGR'->'RGB'\n",
        "    x = x[:, :, ::-1]\n",
        "    x = np.clip(x, 0, 255).astype('uint8')\n",
        "    return x"
      ],
      "execution_count": 0,
      "outputs": []
    },
    {
      "cell_type": "code",
      "metadata": {
        "id": "LsRUvhj_Y0v4",
        "colab_type": "code",
        "colab": {}
      },
      "source": [
        "def content_loss(base, combination):\n",
        "    return K.sum(K.square(combination - base))\n",
        "\n",
        "def gram_matrix(x):\n",
        "    features = K.batch_flatten(K.permute_dimensions(x, (2, 0, 1)))\n",
        "    gram = K.dot(features, K.transpose(features))\n",
        "    return gram\n",
        "\n",
        "def style_loss(style, combination):\n",
        "    S = gram_matrix(style)\n",
        "    C = gram_matrix(combination)\n",
        "    channels = 3\n",
        "    size = img_height * img_width\n",
        "    return K.sum(K.square(S - C)) / (4. * (channels ** 2) * (size ** 2))\n",
        "\n",
        "def total_variation_loss(x):\n",
        "    a = K.square(\n",
        "        x[:, :img_height - 1, :img_width - 1, :] - x[:, 1:, :img_width - 1, :])\n",
        "    b = K.square(\n",
        "        x[:, :img_height - 1, :img_width - 1, :] - x[:, :img_height - 1, 1:, :])\n",
        "    return K.sum(K.pow(a + b, 1.25))"
      ],
      "execution_count": 0,
      "outputs": []
    },
    {
      "cell_type": "code",
      "metadata": {
        "id": "z3vd1Zf8Y5cN",
        "colab_type": "code",
        "outputId": "20e391ee-39eb-40ea-b339-bde185a3fc95",
        "colab": {
          "base_uri": "https://localhost:8080/",
          "height": 309
        }
      },
      "source": [
        "from keras import backend as K\n",
        "\n",
        "target_image = K.constant(preprocess_image(target_image_path))\n",
        "style_reference_image = K.constant(preprocess_image(style_reference_image_path))\n",
        "\n",
        "# This placeholder will contain our generated image\n",
        "combination_image = K.placeholder((1, img_height, img_width, 3))\n",
        "\n",
        "# We combine the 3 images into a single batch\n",
        "input_tensor = K.concatenate([target_image,\n",
        "                              style_reference_image,\n",
        "                              combination_image], axis=0)\n",
        "\n",
        "# We build the VGG16 network with our batch of 3 images as input.\n",
        "# The model will be loaded with pre-trained ImageNet weights.\n",
        "model = vgg16.VGG16(input_tensor=input_tensor,\n",
        "                    weights='imagenet',\n",
        "                    include_top=False)\n",
        "\n",
        "print('Model loaded.')"
      ],
      "execution_count": 0,
      "outputs": [
        {
          "output_type": "stream",
          "text": [
            "WARNING: Logging before flag parsing goes to stderr.\n",
            "W0718 09:22:30.660757 140261938415488 deprecation_wrapper.py:119] From /usr/local/lib/python3.6/dist-packages/keras/backend/tensorflow_backend.py:517: The name tf.placeholder is deprecated. Please use tf.compat.v1.placeholder instead.\n",
            "\n",
            "W0718 09:22:30.671749 140261938415488 deprecation_wrapper.py:119] From /usr/local/lib/python3.6/dist-packages/keras/backend/tensorflow_backend.py:74: The name tf.get_default_graph is deprecated. Please use tf.compat.v1.get_default_graph instead.\n",
            "\n",
            "W0718 09:22:30.673728 140261938415488 deprecation_wrapper.py:119] From /usr/local/lib/python3.6/dist-packages/keras/backend/tensorflow_backend.py:4138: The name tf.random_uniform is deprecated. Please use tf.random.uniform instead.\n",
            "\n",
            "W0718 09:22:30.726316 140261938415488 deprecation_wrapper.py:119] From /usr/local/lib/python3.6/dist-packages/keras/backend/tensorflow_backend.py:3976: The name tf.nn.max_pool is deprecated. Please use tf.nn.max_pool2d instead.\n",
            "\n"
          ],
          "name": "stderr"
        },
        {
          "output_type": "stream",
          "text": [
            "Downloading data from https://github.com/fchollet/deep-learning-models/releases/download/v0.1/vgg16_weights_tf_dim_ordering_tf_kernels_notop.h5\n",
            "58892288/58889256 [==============================] - 2s 0us/step\n"
          ],
          "name": "stdout"
        },
        {
          "output_type": "stream",
          "text": [
            "W0718 09:22:33.384620 140261938415488 deprecation_wrapper.py:119] From /usr/local/lib/python3.6/dist-packages/keras/backend/tensorflow_backend.py:174: The name tf.get_default_session is deprecated. Please use tf.compat.v1.get_default_session instead.\n",
            "\n",
            "W0718 09:22:33.385942 140261938415488 deprecation_wrapper.py:119] From /usr/local/lib/python3.6/dist-packages/keras/backend/tensorflow_backend.py:181: The name tf.ConfigProto is deprecated. Please use tf.compat.v1.ConfigProto instead.\n",
            "\n"
          ],
          "name": "stderr"
        },
        {
          "output_type": "stream",
          "text": [
            "Model loaded.\n"
          ],
          "name": "stdout"
        }
      ]
    },
    {
      "cell_type": "code",
      "metadata": {
        "id": "AGklhKszY-EV",
        "colab_type": "code",
        "outputId": "0f2af384-f6c6-409c-9671-4abae532e6cc",
        "colab": {
          "base_uri": "https://localhost:8080/",
          "height": 54
        }
      },
      "source": [
        "# Dict mapping layer names to activation tensors\n",
        "outputs_dict = dict([(layer.name, layer.output) for layer in model.layers])\n",
        "\n",
        "# Name of layer used for content loss\n",
        "content_layer = 'block5_conv2'\n",
        "\n",
        "# Name of layers used for style loss\n",
        "style_layers = ['block1_conv1',\n",
        "                'block2_conv1',\n",
        "                'block3_conv1',\n",
        "                'block4_conv1',\n",
        "                'block5_conv1']\n",
        "\n",
        "# Weights in the weighted average of the loss components\n",
        "total_variation_weight = 1e-4\n",
        "style_weight = 1.\n",
        "content_weight = 0.025\n",
        "\n",
        "# Define the loss by adding all components to a `loss` variable\n",
        "loss = K.variable(0.)\n",
        "layer_features = outputs_dict[content_layer]\n",
        "target_image_features = layer_features[0, :, :, :]\n",
        "combination_features = layer_features[2, :, :, :]\n",
        "loss += content_weight * content_loss(target_image_features,\n",
        "                                      combination_features)\n",
        "for layer_name in style_layers:\n",
        "    layer_features = outputs_dict[layer_name]\n",
        "    style_reference_features = layer_features[1, :, :, :]\n",
        "    combination_features = layer_features[2, :, :, :]\n",
        "    sl = style_loss(style_reference_features, combination_features)\n",
        "    loss += (style_weight / len(style_layers)) * sl\n",
        "loss += total_variation_weight * total_variation_loss(combination_image)"
      ],
      "execution_count": 0,
      "outputs": [
        {
          "output_type": "stream",
          "text": [
            "W0718 09:23:05.329458 140261938415488 variables.py:2429] Variable += will be deprecated. Use variable.assign_add if you want assignment to the variable value or 'x = x + y' if you want a new python Tensor object.\n"
          ],
          "name": "stderr"
        }
      ]
    },
    {
      "cell_type": "code",
      "metadata": {
        "id": "hKifL8gTZGit",
        "colab_type": "code",
        "outputId": "0441aa34-d26d-4f85-c574-461ec23f8717",
        "colab": {
          "base_uri": "https://localhost:8080/",
          "height": 88
        }
      },
      "source": [
        "# Get the gradients of the generated image wrt the loss\n",
        "grads = K.gradients(loss, combination_image)[0]\n",
        "\n",
        "# Function to fetch the values of the current loss and the current gradients\n",
        "fetch_loss_and_grads = K.function([combination_image], [loss, grads])\n",
        "\n",
        "\n",
        "class Evaluator(object):\n",
        "\n",
        "    def __init__(self):\n",
        "        self.loss_value = None\n",
        "        self.grads_values = None\n",
        "\n",
        "    def loss(self, x):\n",
        "        assert self.loss_value is None\n",
        "        x = x.reshape((1, img_height, img_width, 3))\n",
        "        outs = fetch_loss_and_grads([x])\n",
        "        loss_value = outs[0]\n",
        "        grad_values = outs[1].flatten().astype('float64')\n",
        "        self.loss_value = loss_value\n",
        "        self.grad_values = grad_values\n",
        "        return self.loss_value\n",
        "\n",
        "    def grads(self, x):\n",
        "        assert self.loss_value is not None\n",
        "        grad_values = np.copy(self.grad_values)\n",
        "        self.loss_value = None\n",
        "        self.grad_values = None\n",
        "        return grad_values\n",
        "\n",
        "evaluator = Evaluator()"
      ],
      "execution_count": 0,
      "outputs": [
        {
          "output_type": "stream",
          "text": [
            "W0718 09:23:19.572927 140261938415488 deprecation.py:323] From /usr/local/lib/python3.6/dist-packages/tensorflow/python/ops/math_grad.py:1205: add_dispatch_support.<locals>.wrapper (from tensorflow.python.ops.array_ops) is deprecated and will be removed in a future version.\n",
            "Instructions for updating:\n",
            "Use tf.where in 2.0, which has the same broadcast rule as np.where\n"
          ],
          "name": "stderr"
        }
      ]
    },
    {
      "cell_type": "code",
      "metadata": {
        "id": "4yQFYnYDZKBF",
        "colab_type": "code",
        "outputId": "5b42714c-d074-4dd4-ef9e-363dd5d2c54c",
        "colab": {
          "base_uri": "https://localhost:8080/",
          "height": 697
        }
      },
      "source": [
        "from scipy.optimize import fmin_l_bfgs_b\n",
        "import time\n",
        "import imageio\n",
        "\n",
        "# After 10 iterations little change occurs\n",
        "iterations = 10\n",
        "\n",
        "# Run scipy-based optimization (L-BFGS) over the pixels of the generated image\n",
        "# so as to minimize the neural style loss.\n",
        "# This is our initial state: the target image.\n",
        "# Note that `scipy.optimize.fmin_l_bfgs_b` can only process flat vectors.\n",
        "x = preprocess_image(target_image_path)\n",
        "x = x.flatten()\n",
        "\n",
        "for i in range(iterations):\n",
        "    print('Start of iteration', i)\n",
        "    start_time = time.time()\n",
        "    x, min_val, info = fmin_l_bfgs_b(evaluator.loss, x,\n",
        "                                     fprime=evaluator.grads, maxfun=20)\n",
        "    print('Current loss value:', min_val)\n",
        "    # Save current generated image\n",
        "    img = x.copy().reshape((img_height, img_width, 3))\n",
        "    img = deprocess_image(img)\n",
        "    fname = \"\" + result_prefix + '_at_iteration_%d.png' % i\n",
        "    imageio.imwrite(fname, img)\n",
        "    end_time = time.time()\n",
        "    print('Image saved as', fname)\n",
        "    print('Iteration %d completed in %ds' % (i, end_time - start_time))"
      ],
      "execution_count": 0,
      "outputs": [
        {
          "output_type": "stream",
          "text": [
            "Start of iteration 0\n",
            "Current loss value: 118641740.0\n",
            "Image saved as _at_iteration_0.png\n",
            "Iteration 0 completed in 270s\n",
            "Start of iteration 1\n",
            "Current loss value: 31014480.0\n",
            "Image saved as _at_iteration_1.png\n",
            "Iteration 1 completed in 267s\n",
            "Start of iteration 2\n",
            "Current loss value: 19549694.0\n",
            "Image saved as _at_iteration_2.png\n",
            "Iteration 2 completed in 269s\n",
            "Start of iteration 3\n",
            "Current loss value: 14407610.0\n",
            "Image saved as _at_iteration_3.png\n",
            "Iteration 3 completed in 268s\n",
            "Start of iteration 4\n",
            "Current loss value: 11939554.0\n",
            "Image saved as _at_iteration_4.png\n",
            "Iteration 4 completed in 268s\n",
            "Start of iteration 5\n",
            "Current loss value: 10476470.0\n",
            "Image saved as _at_iteration_5.png\n",
            "Iteration 5 completed in 267s\n",
            "Start of iteration 6\n",
            "Current loss value: 9631318.0\n",
            "Image saved as _at_iteration_6.png\n",
            "Iteration 6 completed in 267s\n",
            "Start of iteration 7\n",
            "Current loss value: 8531054.0\n",
            "Image saved as _at_iteration_7.png\n",
            "Iteration 7 completed in 267s\n",
            "Start of iteration 8\n",
            "Current loss value: 7806176.5\n",
            "Image saved as _at_iteration_8.png\n",
            "Iteration 8 completed in 281s\n",
            "Start of iteration 9\n",
            "Current loss value: 7372530.0\n",
            "Image saved as _at_iteration_9.png\n",
            "Iteration 9 completed in 268s\n"
          ],
          "name": "stdout"
        }
      ]
    },
    {
      "cell_type": "code",
      "metadata": {
        "id": "n-kRUGXBZSTN",
        "colab_type": "code",
        "colab": {}
      },
      "source": [
        ""
      ],
      "execution_count": 0,
      "outputs": []
    }
  ]
}